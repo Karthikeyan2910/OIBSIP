{
  "nbformat": 4,
  "nbformat_minor": 0,
  "metadata": {
    "colab": {
      "provenance": []
    },
    "kernelspec": {
      "name": "python3",
      "display_name": "Python 3"
    },
    "language_info": {
      "name": "python"
    }
  },
  "cells": [
    {
      "cell_type": "code",
      "execution_count": 13,
      "metadata": {
        "colab": {
          "base_uri": "https://localhost:8080/"
        },
        "id": "J9n2ihkCYhc6",
        "outputId": "4d92a662-a80a-4d3d-c05d-8d8bb9a2761a"
      },
      "outputs": [
        {
          "output_type": "stream",
          "name": "stdout",
          "text": [
            "Mean squared error: 2.497681866620669\n",
            "Predicted sales for new data: [44.92936353]\n"
          ]
        }
      ],
      "source": [
        "import pandas as pd\n",
        "from sklearn.model_selection import train_test_split\n",
        "from sklearn.linear_model import LinearRegression\n",
        "\n",
        "# Load the data into a pandas DataFrame\n",
        "data = pd.read_csv('/content/Advertising.csv')\n",
        "\n",
        "# Separate the features and target variable\n",
        "X = data[['TV', 'Radio', 'Newspaper']]\n",
        "y = data['Sales']\n",
        "\n",
        "# Split the data into training and testing sets\n",
        "X_train, X_test, y_train, y_test = train_test_split(X, y, test_size=0.2)\n",
        "\n",
        "# Create and train a linear regression model\n",
        "model = LinearRegression()\n",
        "model.fit(X_train, y_train)\n",
        "\n",
        "# Make predictions on the test data\n",
        "y_pred = model.predict(X_test)\n",
        "\n",
        "# Evaluate the model's performance\n",
        "from sklearn.metrics import mean_squared_error\n",
        "\n",
        "mse = mean_squared_error(y_test, y_pred)\n",
        "print(f\"Mean squared error: {mse}\")\n",
        "\n",
        "# Use the model to make predictions for new data\n",
        "new_data = pd.DataFrame({'TV': [100], 'Radio': [200], 'Newspaper': [300]})\n",
        "predicted_sales = model.predict(new_data)\n",
        "print(f\"Predicted sales for new data: {predicted_sales}\")\n",
        "\n"
      ]
    }
  ]
}